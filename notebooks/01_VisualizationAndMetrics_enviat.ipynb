{
 "cells": [
  {
   "cell_type": "markdown",
   "metadata": {},
   "source": [
    "<div class='container' style='border-bottom: 1px solid; width:100%'>\n",
    "    <div style='float:left'>\n",
    "    Bernat Esquirol & Pere Gilabert \n",
    "    </div>\n",
    "    <div style='float:right'>\n",
    "    Optimization 2019\n",
    "    </div>\n",
    "</div>"
   ]
  },
  {
   "cell_type": "markdown",
   "metadata": {},
   "source": [
    "# Delivery 01: Visualization and Metrics"
   ]
  },
  {
   "cell_type": "markdown",
   "metadata": {},
   "source": [
    "## Data"
   ]
  },
  {
   "cell_type": "markdown",
   "metadata": {},
   "source": [
    "The data we've used to build our network are Spotify bands and playlists. Through API calls we have managed to download about 20,000 playlists with the respective artists performing each of the songs.\n",
    "\n",
    "As a result, there are two different types of nodes in this network:\n",
    "* Playlist node\n",
    "* Artist node\n",
    "\n",
    "Since we have these two types of nodes, we have built a bipartite graph. "
   ]
  },
  {
   "cell_type": "markdown",
   "metadata": {},
   "source": [
    "## Graph"
   ]
  },
  {
   "cell_type": "markdown",
   "metadata": {},
   "source": [
    "### Read the data"
   ]
  },
  {
   "cell_type": "code",
   "execution_count": 11,
   "metadata": {},
   "outputs": [],
   "source": [
    "import pandas as pd\n",
    "import numpy as np\n",
    "import networkx as nx\n",
    "from networkx.algorithms import bipartite\n",
    "from matplotlib import pyplot as plt\n",
    "\n",
    "%matplotlib inline\n",
    "\n",
    "songs = pd.read_pickle('../data/songs.pkl')\n",
    "songs['artist']=songs['artists'].apply(lambda x: x[0][1])"
   ]
  },
  {
   "cell_type": "markdown",
   "metadata": {},
   "source": [
    "### Creating the graph"
   ]
  },
  {
   "cell_type": "code",
   "execution_count": 12,
   "metadata": {},
   "outputs": [
    {
     "name": "stdout",
     "output_type": "stream",
     "text": [
      "20929 playlists ready to be added to the network\n",
      "Adding nodes...DONE\n",
      "\n",
      "Final graph has 83759 nodes and 307183 edges\n"
     ]
    }
   ],
   "source": [
    "# Create a default graph\n",
    "spotify = nx.Graph()\n",
    "\n",
    "# Read the playlists from a file\n",
    "playlists = pd.read_pickle('../data/final_spotify_playlists.pkl')\n",
    "\n",
    "print(\"{:d} playlists ready to be added to the network\".format(len(playlists.index)))\n",
    "\n",
    "# We add two different types of nodes \n",
    "spotify.add_nodes_from(playlists.index, bipartite=0)\n",
    "spotify.add_nodes_from(songs['artist'].unique(), bipartite=1)\n",
    "\n",
    "# The edges are created here\n",
    "print(\"Adding nodes...\", end=\"\")\n",
    "for artist, group in songs[['artist','playlists']].groupby('artist'):\n",
    "    for playlists in group['playlists'].values:\n",
    "        for playlist in playlists:\n",
    "            spotify.add_edge(artist, playlist)\n",
    "print(\"DONE\")\n",
    "\n",
    "# Remove lonely nodes\n",
    "spotify.remove_nodes_from(list(nx.isolates(spotify)))\n",
    "\n",
    "print(\"\\nFinal graph has {:d} nodes and {:d} edges\".format(len(spotify.nodes), len(spotify.edges)))"
   ]
  },
  {
   "cell_type": "markdown",
   "metadata": {},
   "source": [
    "### Prunning the graph"
   ]
  },
  {
   "cell_type": "markdown",
   "metadata": {},
   "source": [
    "As the network resulting from the above operations exceeds 80,000 nodes, we have decided to do a prunning process to discard the less connected subnetworks. To do this, we have divided the network by its points of articulation, leaving the most interconnected part."
   ]
  },
  {
   "cell_type": "code",
   "execution_count": 13,
   "metadata": {},
   "outputs": [],
   "source": [
    "def prune(spotify, playlists):\n",
    "    spotify_small = spotify.copy()\n",
    "    playlists_articulation = [i for i in nx.articulation_points(spotify) if i in playlists.index]\n",
    "    spotify_small.remove_nodes_from(playlists_articulation)\n",
    "    stay_nodes = list(nx.connected_components(spotify_small))[np.argmax([len(i) for i in nx.connected_components(spotify_small)])]\n",
    "    return spotify_small.subgraph(stay_nodes)"
   ]
  },
  {
   "cell_type": "markdown",
   "metadata": {},
   "source": [
    "To speed up the calculation of the metrics that follow, we have done 3 pruning processes."
   ]
  },
  {
   "cell_type": "code",
   "execution_count": 14,
   "metadata": {},
   "outputs": [
    {
     "name": "stdout",
     "output_type": "stream",
     "text": [
      "Prunned graph has 1945 nodes and 8940 edges\n"
     ]
    }
   ],
   "source": [
    "playlists = pd.read_pickle('../data/final_spotify_playlists.pkl')\n",
    "\n",
    "# Prunning\n",
    "spotify = prune(spotify, playlists)\n",
    "spotify = prune(spotify, playlists)\n",
    "spotify = prune(spotify, playlists)\n",
    "\n",
    "print(\"Prunned graph has {:d} nodes and {:d} edges\".format(len(spotify.nodes), len(spotify.edges)))"
   ]
  },
  {
   "cell_type": "markdown",
   "metadata": {},
   "source": [
    "### Plotting the graph"
   ]
  },
  {
   "cell_type": "code",
   "execution_count": 15,
   "metadata": {},
   "outputs": [],
   "source": [
    "# nx.draw(spotify)"
   ]
  },
  {
   "cell_type": "markdown",
   "metadata": {},
   "source": [
    "## Metrics"
   ]
  },
  {
   "cell_type": "markdown",
   "metadata": {},
   "source": [
    "### Degree centrality"
   ]
  },
  {
   "cell_type": "code",
   "execution_count": 16,
   "metadata": {},
   "outputs": [],
   "source": [
    "deg_central = nx.degree_centrality(spotify)\n",
    "deg_central_sorted = [(k, v) for k, v in sorted(deg_central.items(), key=lambda item: item[1])]"
   ]
  },
  {
   "cell_type": "code",
   "execution_count": 17,
   "metadata": {},
   "outputs": [
    {
     "name": "stdout",
     "output_type": "stream",
     "text": [
      "The less connected node is 0f5nVCcR06GX8Qikz0COtT with 1 connections and a degree centrality of 0.000514\n",
      "The most connected node is 6eUKZXaKkcviH0Ku9w2n3V with 109 connections and a degree centrality of 0.056070\n"
     ]
    }
   ],
   "source": [
    "print(\"The less connected node is {:s} with {:d} \"\\\n",
    "      \"connections and a degree centrality of {:f}\".format(deg_central_sorted[0][0], \n",
    "                                                           len(spotify.edges([deg_central_sorted[0][0]])),\n",
    "                                                           deg_central_sorted[0][1]))\n",
    "print(\"The most connected node is {:s} with {:d} \"\\\n",
    "      \"connections and a degree centrality of {:f}\".format(deg_central_sorted[-1][0], \n",
    "                                                           len(spotify.edges([deg_central_sorted[-1][0]])),\n",
    "                                                           deg_central_sorted[-1][1]))"
   ]
  },
  {
   "cell_type": "markdown",
   "metadata": {},
   "source": [
    "### Degree's distribution"
   ]
  },
  {
   "cell_type": "code",
   "execution_count": 33,
   "metadata": {},
   "outputs": [
    {
     "data": {
      "image/png": "[encoded data removed]",
      "text/plain": [
       "<Figure size 1080x288 with 1 Axes>"
      ]
     },
     "metadata": {
      "needs_background": "light"
     },
     "output_type": "display_data"
    }
   ],
   "source": [
    "LIMIT = 100\n",
    "\n",
    "degrees = nx.degree_histogram(spotify)[:LIMIT]\n",
    "plt.figure(figsize=(15,4))\n",
    "plt.bar(list(range(len(degrees))),degrees)\n",
    "plt.title('Degree\\'s distribution (degree<{:d})'.format(LIMIT))\n",
    "plt.xlabel('Degree')\n",
    "plt.ylabel('Count')\n",
    "plt.show()"
   ]
  },
  {
   "cell_type": "markdown",
   "metadata": {},
   "source": [
    "### Diameter (length of the maximum path)"
   ]
  },
  {
   "cell_type": "code",
   "execution_count": 25,
   "metadata": {
    "scrolled": true
   },
   "outputs": [
    {
     "name": "stdout",
     "output_type": "stream",
     "text": [
      "12.000000\n",
      "Wall time: 3min 7s\n"
     ]
    }
   ],
   "source": [
    "%time print(\"{:f}\".format(nx.diameter(spotify)))"
   ]
  },
  {
   "cell_type": "markdown",
   "metadata": {},
   "source": [
    "### Closeness centrality"
   ]
  },
  {
   "cell_type": "code",
   "execution_count": 26,
   "metadata": {},
   "outputs": [
    {
     "name": "stdout",
     "output_type": "stream",
     "text": [
      "Wall time: 3min 10s\n"
     ]
    }
   ],
   "source": [
    "%time closeness = nx.closeness_centrality(spotify)\n",
    "closeness_sorted = [(k, v) for k, v in sorted(closeness.items(), key=lambda item: item[1])]"
   ]
  },
  {
   "cell_type": "code",
   "execution_count": 27,
   "metadata": {},
   "outputs": [
    {
     "name": "stdout",
     "output_type": "stream",
     "text": [
      "The node with the lowest closeness value is 4m0xrEWYU0yCUFMaga015T with a value of 0.125517\n",
      "The node with the highest closeness value is 6eUKZXaKkcviH0Ku9w2n3V with a value of 0.355523\n"
     ]
    }
   ],
   "source": [
    "print(\"The node with the lowest closeness value is {:s} with a value of {:f}\".format(closeness_sorted[0][0], \n",
    "                                                           closeness_sorted[0][1]))\n",
    "print(\"The node with the highest closeness value is {:s} with a value of {:f}\".format(closeness_sorted[-1][0], \n",
    "                                                           closeness_sorted[-1][1]))"
   ]
  },
  {
   "cell_type": "markdown",
   "metadata": {},
   "source": [
    "### Betweeness centrality"
   ]
  },
  {
   "cell_type": "code",
   "execution_count": 28,
   "metadata": {},
   "outputs": [
    {
     "name": "stdout",
     "output_type": "stream",
     "text": [
      "Wall time: 2min 2s\n"
     ]
    }
   ],
   "source": [
    "%time between = nx.betweenness_centrality(spotify)\n",
    "between_sorted = [(k, v) for k, v in sorted(between.items(), key=lambda item: item[1])]"
   ]
  },
  {
   "cell_type": "code",
   "execution_count": 29,
   "metadata": {},
   "outputs": [
    {
     "name": "stdout",
     "output_type": "stream",
     "text": [
      "The node with the lowest betweeness value is 0f5nVCcR06GX8Qikz0COtT with a value of 0.000000\n",
      "The node with the lowest betweeness value is 37i9dQZF1DX14l44D8IaLa with a value of 0.090416\n"
     ]
    }
   ],
   "source": [
    "print(\"The node with the lowest betweeness value is {:s} with a value of {:f}\".format(between_sorted[0][0], \n",
    "                                                           between_sorted[0][1]))\n",
    "print(\"The node with the lowest betweeness value is {:s} with a value of {:f}\".format(between_sorted[-1][0], \n",
    "                                                           between_sorted[-1][1]))"
   ]
  }
 ],
 "metadata": {
  "kernelspec": {
   "display_name": "Python 3",
   "language": "python",
   "name": "python3"
  },
  "language_info": {
   "codemirror_mode": {
    "name": "ipython",
    "version": 3
   },
   "file_extension": ".py",
   "mimetype": "text/x-python",
   "name": "python",
   "nbconvert_exporter": "python",
   "pygments_lexer": "ipython3",
   "version": "3.7.4"
  },
  "toc": {
   "base_numbering": 1,
   "nav_menu": {},
   "number_sections": true,
   "sideBar": true,
   "skip_h1_title": false,
   "title_cell": "Table of Contents",
   "title_sidebar": "Contents",
   "toc_cell": false,
   "toc_position": {},
   "toc_section_display": true,
   "toc_window_display": false
  }
 },
 "nbformat": 4,
 "nbformat_minor": 2
}
