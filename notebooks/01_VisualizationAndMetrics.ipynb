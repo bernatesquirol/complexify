{
 "cells": [
  {
   "cell_type": "markdown",
   "metadata": {},
   "source": [
    "<div class='container' style='border-bottom: 1px solid; width:100%'>\n",
    "    <div style='float:left'>\n",
    "    Bernat Esquirol & Pere Gilabert \n",
    "    </div>\n",
    "    <div style='float:right'>\n",
    "    Complex Networks 2019\n",
    "    </div>\n",
    "</div>"
   ]
  },
  {
   "cell_type": "markdown",
   "metadata": {},
   "source": [
    "# Delivery 01: Visualization and Metrics"
   ]
  },
  {
   "cell_type": "markdown",
   "metadata": {},
   "source": [
    "## Data"
   ]
  },
  {
   "cell_type": "markdown",
   "metadata": {},
   "source": [
    "The data we've used to build our network are Spotify bands and playlists. Through API calls we have managed to download about 20,000 playlists with the respective artists performing each of the songs.\n",
    "\n",
    "As a result, there are two different types of nodes in this network:\n",
    "* Playlist node\n",
    "* Artist node\n",
    "\n",
    "Since we have these two types of nodes, we have built a bipartite graph. "
   ]
  },
  {
   "cell_type": "markdown",
   "metadata": {},
   "source": [
    "## Graph"
   ]
  },
  {
   "cell_type": "markdown",
   "metadata": {},
   "source": [
    "### Read the data"
   ]
  },
  {
   "cell_type": "code",
   "execution_count": 3,
   "metadata": {},
   "outputs": [],
   "source": [
    "import pandas as pd\n",
    "import numpy as np\n",
    "import networkx as nx\n",
    "from networkx.algorithms import bipartite\n",
    "from matplotlib import pyplot as plt\n",
    "\n",
    "%matplotlib inline\n",
    "\n",
    "songs = pd.read_pickle('../data/songs.pkl')\n",
    "songs['artist']=songs['artists'].apply(lambda x: x[0][1])\n",
    "playlists = pd.read_pickle('../data/final_spotify_playlists.pkl')"
   ]
  },
  {
   "cell_type": "markdown",
   "metadata": {},
   "source": [
    "### Creating the graph"
   ]
  },
  {
   "cell_type": "code",
   "execution_count": 4,
   "metadata": {},
   "outputs": [
    {
     "name": "stdout",
     "output_type": "stream",
     "text": [
      "20929 playlists ready to be added to the network\n",
      "Adding nodes...DONE\n",
      "\n",
      "Final graph has 83759 nodes and 307183 edges\n"
     ]
    }
   ],
   "source": [
    "# Create a default graph\n",
    "spotify = nx.Graph()\n",
    "\n",
    "# Read the playlists from a file\n",
    "playlists = pd.read_pickle('../data/final_spotify_playlists.pkl')\n",
    "\n",
    "print(\"{:d} playlists ready to be added to the network\".format(len(playlists.index)))\n",
    "\n",
    "# We add two different types of nodes \n",
    "spotify.add_nodes_from(playlists.index, bipartite=0)\n",
    "spotify.add_nodes_from(songs['artist'].unique(), bipartite=1)\n",
    "\n",
    "# The edges are created here\n",
    "print(\"Adding nodes...\", end=\"\")\n",
    "for artist, group in songs[['artist','playlists']].groupby('artist'):\n",
    "    for playlists in group['playlists'].values:\n",
    "        for playlist in playlists:\n",
    "            spotify.add_edge(artist, playlist)\n",
    "print(\"DONE\")\n",
    "\n",
    "# Remove lonely nodes\n",
    "spotify.remove_nodes_from(list(nx.isolates(spotify)))\n",
    "\n",
    "print(\"\\nFinal graph has {:d} nodes and {:d} edges\".format(len(spotify.nodes), len(spotify.edges)))"
   ]
  },
  {
   "cell_type": "markdown",
   "metadata": {},
   "source": [
    "### Prunning the graph"
   ]
  },
  {
   "cell_type": "markdown",
   "metadata": {},
   "source": [
    "As we have a huge bipartite network, we project over artists, so that the remaining graph has as nodes all the playlists (6387), and weighted edges as how many artists they share."
   ]
  },
  {
   "cell_type": "code",
   "execution_count": 4,
   "metadata": {},
   "outputs": [],
   "source": [
    "from networkx.algorithms import bipartite\n",
    "# spotify = nx.read_gpickle('../data/network_bipartite.gpkl')"
   ]
  },
  {
   "cell_type": "code",
   "execution_count": 6,
   "metadata": {},
   "outputs": [],
   "source": [
    "spotify_big_connected = spotify.subgraph(next(nx.connected_components(spotify)))\n",
    "playlists, artists = bipartite.sets(spotify_big_connected)"
   ]
  },
  {
   "cell_type": "code",
   "execution_count": 13,
   "metadata": {},
   "outputs": [],
   "source": [
    "# playlists_projection = bipartite.weighted_projected_graph(spotify_big_connected, playlists)\n",
    "playlists_projection = nx.read_gpickle('../data/playlists_projection.gpkl')"
   ]
  },
  {
   "cell_type": "code",
   "execution_count": 15,
   "metadata": {},
   "outputs": [
    {
     "data": {
      "text/plain": [
       "6387"
      ]
     },
     "execution_count": 15,
     "metadata": {},
     "output_type": "execute_result"
    }
   ],
   "source": [
    "len(playlists_projection)"
   ]
  },
  {
   "cell_type": "markdown",
   "metadata": {},
   "source": [
    "Now for example we can retrieve the most similar playlist from another playlist has the most weighted neighbor"
   ]
  },
  {
   "cell_type": "code",
   "execution_count": 17,
   "metadata": {},
   "outputs": [],
   "source": [
    "def get_nearest(projection, id_playlist):\n",
    "    neighbors = playlists_projection.neighbors(id_playlist)\n",
    "    tal = [(projection[id_playlist][id_n]['weight'],id_n,playlists.loc[id_n]) for id_n in neighbors]\n",
    "    return sorted(tal, reverse=True)"
   ]
  },
  {
   "cell_type": "code",
   "execution_count": 19,
   "metadata": {},
   "outputs": [
    {
     "data": {
      "text/plain": [
       "[(44, '37i9dQZF1DWWQRwui0ExPn', 'Lo-Fi Beats'),\n",
       " (23, '37i9dQZF1DX8Uebhn9wzrS', 'Chill Lofi Study Beats'),\n",
       " (16, '37i9dQZF1DX3qCx5yEZkcJ', 'Mellow Beats'),\n",
       " (15, '37i9dQZF1DX9RwfGbeGQwP', 'Lo-Fi Cafe'),\n",
       " (13, '37i9dQZF1DXc8kgYqQLMfH', 'Lush Lofi'),\n",
       " (12, '37i9dQZF1DX36Xw4IJIVKA', 'Lofi Hip-Hop'),\n",
       " (12, '37i9dQZF1DWXHS0n2OcMjx', 'Homework Beats'),\n",
       " (11, '37i9dQZF1DWYoYGBbGKurt', 'Chill Instrumental Beats'),\n",
       " (10, '37i9dQZF1DXdipfKDeMPTE', 'Moonlight Bumps'),\n",
       " (10, '37i9dQZF1DXbtuVQL4zoey', 'Sunny Beats')]"
      ]
     },
     "execution_count": 19,
     "metadata": {},
     "output_type": "execute_result"
    }
   ],
   "source": [
    "# 37i9dQZF1DX0SM0LYsmbMT Jazz Vibes\n",
    "get_nearest(playlists_projection, '37i9dQZF1DX0SM0LYsmbMT')[:10]"
   ]
  },
  {
   "cell_type": "markdown",
   "metadata": {},
   "source": [
    "### Plotting the graph"
   ]
  },
  {
   "cell_type": "code",
   "execution_count": 15,
   "metadata": {},
   "outputs": [],
   "source": [
    "# nx.draw(playlists_projection)"
   ]
  },
  {
   "cell_type": "markdown",
   "metadata": {},
   "source": [
    "## Metrics"
   ]
  },
  {
   "cell_type": "markdown",
   "metadata": {},
   "source": [
    "### Degree centrality"
   ]
  },
  {
   "cell_type": "code",
   "execution_count": 20,
   "metadata": {},
   "outputs": [],
   "source": [
    "deg_central = nx.degree_centrality(playlists_projection)\n",
    "deg_central_sorted = [(k, v) for k, v in sorted(deg_central.items(), key=lambda item: item[1])]"
   ]
  },
  {
   "cell_type": "code",
   "execution_count": 21,
   "metadata": {},
   "outputs": [
    {
     "name": "stdout",
     "output_type": "stream",
     "text": [
      "The less connected node is 37i9dQZF1DWYLzS1pepUTD with 1 connections and a degree centrality of 0.000157\n",
      "The most connected node is 37i9dQZF1DWTmvXBN4DgpA with 3393 connections and a degree centrality of 0.531319\n"
     ]
    }
   ],
   "source": [
    "print(\"The less connected node is {:s} with {:d} \"\\\n",
    "      \"connections and a degree centrality of {:f}\".format(deg_central_sorted[0][0], \n",
    "                                                           len(playlists_projection.edges([deg_central_sorted[0][0]])),\n",
    "                                                           deg_central_sorted[0][1]))\n",
    "print(\"The most connected node is {:s} with {:d} \"\\\n",
    "      \"connections and a degree centrality of {:f}\".format(deg_central_sorted[-1][0], \n",
    "                                                           len(playlists_projection.edges([deg_central_sorted[-1][0]])),\n",
    "                                                           deg_central_sorted[-1][1]))"
   ]
  },
  {
   "cell_type": "markdown",
   "metadata": {},
   "source": [
    "### Degree's distribution"
   ]
  },
  {
   "cell_type": "code",
   "execution_count": 22,
   "metadata": {},
   "outputs": [
    {
     "data": {
      "image/png": "[encoded data removed]",
      "text/plain": [
       "<Figure size 1080x288 with 1 Axes>"
      ]
     },
     "metadata": {
      "needs_background": "light"
     },
     "output_type": "display_data"
    }
   ],
   "source": [
    "LIMIT = 100\n",
    "\n",
    "degrees = nx.degree_histogram(playlists_projection)[:LIMIT]\n",
    "plt.figure(figsize=(15,4))\n",
    "plt.bar(list(range(len(degrees))),degrees)\n",
    "plt.title('Degree\\'s distribution (degree<{:d})'.format(LIMIT))\n",
    "plt.xlabel('Degree')\n",
    "plt.ylabel('Count')\n",
    "plt.show()"
   ]
  },
  {
   "cell_type": "markdown",
   "metadata": {},
   "source": [
    "### Diameter (length of the maximum path)"
   ]
  },
  {
   "cell_type": "code",
   "execution_count": 28,
   "metadata": {
    "scrolled": true
   },
   "outputs": [],
   "source": [
    "diameter = nx.diameter(playlists_projection)"
   ]
  },
  {
   "cell_type": "code",
   "execution_count": null,
   "metadata": {},
   "outputs": [],
   "source": [
    "%time print(\"{:f}\".format(diameter))"
   ]
  },
  {
   "cell_type": "markdown",
   "metadata": {},
   "source": [
    "### Closeness centrality"
   ]
  },
  {
   "cell_type": "code",
   "execution_count": 27,
   "metadata": {},
   "outputs": [],
   "source": [
    "# %time closeness = nx.closeness_centrality(playlists_projection)\n",
    "# closeness_sorted = [(k, v) for k, v in sorted(closeness.items(), key=lambda item: item[1])]"
   ]
  },
  {
   "cell_type": "code",
   "execution_count": 24,
   "metadata": {},
   "outputs": [
    {
     "ename": "NameError",
     "evalue": "name 'closeness_sorted' is not defined",
     "output_type": "error",
     "traceback": [
      "\u001b[1;31m---------------------------------------------------------------------------\u001b[0m",
      "\u001b[1;31mNameError\u001b[0m                                 Traceback (most recent call last)",
      "\u001b[1;32m<ipython-input-24-330a58c94abc>\u001b[0m in \u001b[0;36m<module>\u001b[1;34m\u001b[0m\n\u001b[1;32m----> 1\u001b[1;33m print(\"The node with the lowest closeness value is {:s} with a value of {:f}\".format(closeness_sorted[0][0], \n\u001b[0m\u001b[0;32m      2\u001b[0m                                                            closeness_sorted[0][1]))\n\u001b[0;32m      3\u001b[0m print(\"The node with the highest closeness value is {:s} with a value of {:f}\".format(closeness_sorted[-1][0], \n\u001b[0;32m      4\u001b[0m                                                            closeness_sorted[-1][1]))\n",
      "\u001b[1;31mNameError\u001b[0m: name 'closeness_sorted' is not defined"
     ]
    }
   ],
   "source": [
    "print(\"The node with the lowest closeness value is {:s} with a value of {:f}\".format(closeness_sorted[0][0], \n",
    "                                                           closeness_sorted[0][1]))\n",
    "print(\"The node with the highest closeness value is {:s} with a value of {:f}\".format(closeness_sorted[-1][0], \n",
    "                                                           closeness_sorted[-1][1]))"
   ]
  },
  {
   "cell_type": "markdown",
   "metadata": {},
   "source": [
    "### Betweeness centrality"
   ]
  },
  {
   "cell_type": "code",
   "execution_count": null,
   "metadata": {},
   "outputs": [],
   "source": [
    "%time between = nx.betweenness_centrality(playlists_projection)\n",
    "between_sorted = [(k, v) for k, v in sorted(between.items(), key=lambda item: item[1])]"
   ]
  },
  {
   "cell_type": "code",
   "execution_count": 29,
   "metadata": {},
   "outputs": [
    {
     "name": "stdout",
     "output_type": "stream",
     "text": [
      "The node with the lowest betweeness value is 0f5nVCcR06GX8Qikz0COtT with a value of 0.000000\n",
      "The node with the lowest betweeness value is 37i9dQZF1DX14l44D8IaLa with a value of 0.090416\n"
     ]
    }
   ],
   "source": [
    "print(\"The node with the lowest betweeness value is {:s} with a value of {:f}\".format(between_sorted[0][0], \n",
    "                                                           between_sorted[0][1]))\n",
    "print(\"The node with the lowest betweeness value is {:s} with a value of {:f}\".format(between_sorted[-1][0], \n",
    "                                                           between_sorted[-1][1]))"
   ]
  },
  {
   "cell_type": "code",
   "execution_count": null,
   "metadata": {},
   "outputs": [],
   "source": []
  }
 ],
 "metadata": {
  "kernelspec": {
   "display_name": "Python 3",
   "language": "python",
   "name": "python3"
  },
  "language_info": {
   "codemirror_mode": {
    "name": "ipython",
    "version": 3
   },
   "file_extension": ".py",
   "mimetype": "text/x-python",
   "name": "python",
   "nbconvert_exporter": "python",
   "pygments_lexer": "ipython3",
   "version": "3.7.5"
  },
  "toc": {
   "base_numbering": 1,
   "nav_menu": {},
   "number_sections": true,
   "sideBar": true,
   "skip_h1_title": false,
   "title_cell": "Table of Contents",
   "title_sidebar": "Contents",
   "toc_cell": false,
   "toc_position": {},
   "toc_section_display": true,
   "toc_window_display": false
  }
 },
 "nbformat": 4,
 "nbformat_minor": 2
}
