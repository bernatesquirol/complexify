{
 "cells": [
  {
   "cell_type": "code",
   "execution_count": 1,
   "metadata": {},
   "outputs": [],
   "source": [
    "import networkx as nx"
   ]
  },
  {
   "cell_type": "code",
   "execution_count": 4,
   "metadata": {},
   "outputs": [],
   "source": [
    "G_big = nx.read_gpickle('../data/playlists_projection.gpkl')\n",
    "selected_edges = [(u,v) for u,v in G.edges() if G.get_edge_data(u,v)['weight']>4]\n",
    "subg = G.edge_subgraph(selected_edges)"
   ]
  },
  {
   "cell_type": "code",
   "execution_count": 5,
   "metadata": {},
   "outputs": [],
   "source": [
    "big_connected = subg.subgraph(list(nx.connected_components(subg))[0]).copy()"
   ]
  },
  {
   "cell_type": "code",
   "execution_count": 4,
   "metadata": {},
   "outputs": [
    {
     "data": {
      "text/plain": [
       "5653"
      ]
     },
     "execution_count": 4,
     "metadata": {},
     "output_type": "execute_result"
    }
   ],
   "source": [
    "len(big_connected)"
   ]
  },
  {
   "cell_type": "code",
   "execution_count": 12,
   "metadata": {},
   "outputs": [],
   "source": [
    "nodes = big_connected.nodes()"
   ]
  },
  {
   "cell_type": "code",
   "execution_count": 6,
   "metadata": {},
   "outputs": [],
   "source": [
    "import pandas as pd"
   ]
  },
  {
   "cell_type": "code",
   "execution_count": 7,
   "metadata": {},
   "outputs": [],
   "source": [
    "# nx.get_node_attributes(G, '37i9dQZF1DX0suvPmTqswW')"
   ]
  },
  {
   "cell_type": "code",
   "execution_count": 8,
   "metadata": {},
   "outputs": [],
   "source": [
    "playlists = pd.read_pickle('../data/final_spotify_playlists.pkl')"
   ]
  },
  {
   "cell_type": "code",
   "execution_count": 23,
   "metadata": {},
   "outputs": [],
   "source": [
    "playlist_data = pd.DataFrame(playlists.loc[list(nodes)], columns=['name'])"
   ]
  },
  {
   "cell_type": "code",
   "execution_count": 24,
   "metadata": {},
   "outputs": [],
   "source": [
    "categories = pd.read_csv('../data/playlists_categories.csv').set_index('id')"
   ]
  },
  {
   "cell_type": "code",
   "execution_count": 25,
   "metadata": {},
   "outputs": [],
   "source": [
    "categories_filtered = categories[categories.index.isin(playlist_data.index)]"
   ]
  },
  {
   "cell_type": "code",
   "execution_count": 26,
   "metadata": {},
   "outputs": [],
   "source": [
    "playlist_data.loc[categories_filtered.index, 'category']=categories_filtered.values"
   ]
  },
  {
   "cell_type": "code",
   "execution_count": 27,
   "metadata": {},
   "outputs": [],
   "source": [
    "playlist_data['category_source']=False"
   ]
  },
  {
   "cell_type": "code",
   "execution_count": 28,
   "metadata": {},
   "outputs": [],
   "source": [
    "playlist_data.loc[categories_filtered.index, 'category_source']=True"
   ]
  },
  {
   "cell_type": "code",
   "execution_count": 70,
   "metadata": {},
   "outputs": [],
   "source": [
    "del  playlist_data['category_sort']"
   ]
  },
  {
   "cell_type": "code",
   "execution_count": 71,
   "metadata": {},
   "outputs": [
    {
     "data": {
      "text/html": [
       "<div>\n",
       "<style scoped>\n",
       "    .dataframe tbody tr th:only-of-type {\n",
       "        vertical-align: middle;\n",
       "    }\n",
       "\n",
       "    .dataframe tbody tr th {\n",
       "        vertical-align: top;\n",
       "    }\n",
       "\n",
       "    .dataframe thead th {\n",
       "        text-align: right;\n",
       "    }\n",
       "</style>\n",
       "<table border=\"1\" class=\"dataframe\">\n",
       "  <thead>\n",
       "    <tr style=\"text-align: right;\">\n",
       "      <th></th>\n",
       "      <th>name</th>\n",
       "      <th>category</th>\n",
       "      <th>category_source</th>\n",
       "    </tr>\n",
       "  </thead>\n",
       "  <tbody>\n",
       "    <tr>\n",
       "      <th>37i9dQZF1DXaKIA8E7WcJj</th>\n",
       "      <td>All Out 60s</td>\n",
       "      <td>soul</td>\n",
       "      <td>False</td>\n",
       "    </tr>\n",
       "    <tr>\n",
       "      <th>37i9dQZF1DXdHPp93Fnfds</th>\n",
       "      <td>Mujeres del Indie</td>\n",
       "      <td>latin</td>\n",
       "      <td>False</td>\n",
       "    </tr>\n",
       "    <tr>\n",
       "      <th>37i9dQZF1DWVRje2pMSCzM</th>\n",
       "      <td>Brasil Anos 80</td>\n",
       "      <td>rock</td>\n",
       "      <td>False</td>\n",
       "    </tr>\n",
       "    <tr>\n",
       "      <th>37i9dQZF1DXbBKF9yWSvWR</th>\n",
       "      <td>A Shot Of Indie</td>\n",
       "      <td>chill</td>\n",
       "      <td>False</td>\n",
       "    </tr>\n",
       "    <tr>\n",
       "      <th>37i9dQZF1DX8bPpooSiXy2</th>\n",
       "      <td>Tropical Christmas</td>\n",
       "      <td>at_home</td>\n",
       "      <td>False</td>\n",
       "    </tr>\n",
       "  </tbody>\n",
       "</table>\n",
       "</div>"
      ],
      "text/plain": [
       "                                      name category  category_source\n",
       "37i9dQZF1DXaKIA8E7WcJj         All Out 60s     soul            False\n",
       "37i9dQZF1DXdHPp93Fnfds   Mujeres del Indie    latin            False\n",
       "37i9dQZF1DWVRje2pMSCzM      Brasil Anos 80     rock            False\n",
       "37i9dQZF1DXbBKF9yWSvWR     A Shot Of Indie    chill            False\n",
       "37i9dQZF1DX8bPpooSiXy2  Tropical Christmas  at_home            False"
      ]
     },
     "execution_count": 71,
     "metadata": {},
     "output_type": "execute_result"
    }
   ],
   "source": [
    "playlist_data.head()"
   ]
  },
  {
   "cell_type": "code",
   "execution_count": 30,
   "metadata": {},
   "outputs": [
    {
     "name": "stderr",
     "output_type": "stream",
     "text": [
      "C:\\Users\\berna\\Anaconda3\\lib\\site-packages\\ipykernel_launcher.py:5: FutureWarning: The pandas.np module is deprecated and will be removed from pandas in a future version. Import numpy directly instead\n",
      "  \"\"\"\n"
     ]
    },
    {
     "name": "stdout",
     "output_type": "stream",
     "text": [
      "5216 3547\n",
      "1669 1326\n",
      "343 277\n",
      "66 60\n",
      "6 5\n",
      "1 1\n"
     ]
    }
   ],
   "source": [
    "isnull = playlist_data['category'].isnull()\n",
    "while np.sum(isnull)>0:\n",
    "    dict_infected = {}\n",
    "    # we practice a bit of socialism with the category counts\n",
    "    # priorizing those with less nodes in case of case of equal value\n",
    "    category_sort = playlist_data['category'].value_counts().sort_values(ascending=True)\n",
    "    playlist_data['category_sort']=playlist_data['category'].apply(lambda x: category_sort[x] if not pd.isnull(x) else pd.np.nan)\n",
    "    for i, row in playlist_data[-isnull].sort_values(by='category_sort').iterrows():\n",
    "        for n in big_connected.neighbors(i):\n",
    "            if isnull[n]:\n",
    "                weight = G.get_edge_data(i,n)['weight']\n",
    "                if n not in dict_infected:\n",
    "                    dict_infected[n]={row['category']:weight}\n",
    "                else:\n",
    "                    if row['category'] not in dict_infected[n]:\n",
    "                        dict_infected[n][row['category']]=0\n",
    "                    dict_infected[n][row['category']]+=weight\n",
    "    for i, dict_inf_node in dict_infected.items():\n",
    "        # we normalize by the total amount of nodes of that category\n",
    "        normalized_sort = {k:v/category_sort[k] for k,v in dict_inf_node.items()}\n",
    "        category_i = max(normalized_sort, key=normalized_sort.get)\n",
    "        playlist_data.loc[i, 'category']=category_i\n",
    "        category_sort[category_i]+=1\n",
    "    isnull = playlist_data['category'].isnull()\n",
    "        "
   ]
  },
  {
   "cell_type": "code",
   "execution_count": 34,
   "metadata": {},
   "outputs": [],
   "source": [
    "# dict_infected\n",
    "# playlist_data['category'].value_counts()"
   ]
  },
  {
   "cell_type": "code",
   "execution_count": 32,
   "metadata": {
    "scrolled": true
   },
   "outputs": [
    {
     "data": {
      "text/html": [
       "<div>\n",
       "<style scoped>\n",
       "    .dataframe tbody tr th:only-of-type {\n",
       "        vertical-align: middle;\n",
       "    }\n",
       "\n",
       "    .dataframe tbody tr th {\n",
       "        vertical-align: top;\n",
       "    }\n",
       "\n",
       "    .dataframe thead th {\n",
       "        text-align: right;\n",
       "    }\n",
       "</style>\n",
       "<table border=\"1\" class=\"dataframe\">\n",
       "  <thead>\n",
       "    <tr style=\"text-align: right;\">\n",
       "      <th></th>\n",
       "      <th>name</th>\n",
       "      <th>category</th>\n",
       "      <th>category_source</th>\n",
       "    </tr>\n",
       "  </thead>\n",
       "  <tbody>\n",
       "    <tr>\n",
       "      <th>37i9dQZF1DXaKIA8E7WcJj</th>\n",
       "      <td>All Out 60s</td>\n",
       "      <td>soul</td>\n",
       "      <td>False</td>\n",
       "    </tr>\n",
       "    <tr>\n",
       "      <th>37i9dQZF1DXdHPp93Fnfds</th>\n",
       "      <td>Mujeres del Indie</td>\n",
       "      <td>latin</td>\n",
       "      <td>False</td>\n",
       "    </tr>\n",
       "    <tr>\n",
       "      <th>37i9dQZF1DWVRje2pMSCzM</th>\n",
       "      <td>Brasil Anos 80</td>\n",
       "      <td>rock</td>\n",
       "      <td>False</td>\n",
       "    </tr>\n",
       "    <tr>\n",
       "      <th>37i9dQZF1DXbBKF9yWSvWR</th>\n",
       "      <td>A Shot Of Indie</td>\n",
       "      <td>chill</td>\n",
       "      <td>False</td>\n",
       "    </tr>\n",
       "    <tr>\n",
       "      <th>37i9dQZF1DX8bPpooSiXy2</th>\n",
       "      <td>Tropical Christmas</td>\n",
       "      <td>at_home</td>\n",
       "      <td>False</td>\n",
       "    </tr>\n",
       "    <tr>\n",
       "      <th>...</th>\n",
       "      <td>...</td>\n",
       "      <td>...</td>\n",
       "      <td>...</td>\n",
       "    </tr>\n",
       "    <tr>\n",
       "      <th>37i9dQZF1DWVnKyBKrE7lN</th>\n",
       "      <td>Most Streamed Songs of All Time</td>\n",
       "      <td>gaming</td>\n",
       "      <td>False</td>\n",
       "    </tr>\n",
       "    <tr>\n",
       "      <th>37i9dQZF1DWWu1NXpHyPJK</th>\n",
       "      <td>90's Allerbeste</td>\n",
       "      <td>romance</td>\n",
       "      <td>False</td>\n",
       "    </tr>\n",
       "    <tr>\n",
       "      <th>37i9dQZF1DX0suvPmTqswW</th>\n",
       "      <td>Barnsånger i farten</td>\n",
       "      <td>at_home</td>\n",
       "      <td>False</td>\n",
       "    </tr>\n",
       "    <tr>\n",
       "      <th>37i9dQZF1DX9C8KzGEUKV4</th>\n",
       "      <td>Éxitos Perú</td>\n",
       "      <td>latin</td>\n",
       "      <td>False</td>\n",
       "    </tr>\n",
       "    <tr>\n",
       "      <th>37i9dQZF1DX7QVY9I8NGmC</th>\n",
       "      <td>Mãi Mãi Trịnh Công Sơn</td>\n",
       "      <td>pop</td>\n",
       "      <td>False</td>\n",
       "    </tr>\n",
       "  </tbody>\n",
       "</table>\n",
       "<p>5653 rows × 3 columns</p>\n",
       "</div>"
      ],
      "text/plain": [
       "                                                   name category  \\\n",
       "37i9dQZF1DXaKIA8E7WcJj                      All Out 60s     soul   \n",
       "37i9dQZF1DXdHPp93Fnfds                Mujeres del Indie    latin   \n",
       "37i9dQZF1DWVRje2pMSCzM                   Brasil Anos 80     rock   \n",
       "37i9dQZF1DXbBKF9yWSvWR                  A Shot Of Indie    chill   \n",
       "37i9dQZF1DX8bPpooSiXy2               Tropical Christmas  at_home   \n",
       "...                                                 ...      ...   \n",
       "37i9dQZF1DWVnKyBKrE7lN  Most Streamed Songs of All Time   gaming   \n",
       "37i9dQZF1DWWu1NXpHyPJK                  90's Allerbeste  romance   \n",
       "37i9dQZF1DX0suvPmTqswW              Barnsånger i farten  at_home   \n",
       "37i9dQZF1DX9C8KzGEUKV4                      Éxitos Perú    latin   \n",
       "37i9dQZF1DX7QVY9I8NGmC           Mãi Mãi Trịnh Công Sơn      pop   \n",
       "\n",
       "                        category_source  \n",
       "37i9dQZF1DXaKIA8E7WcJj            False  \n",
       "37i9dQZF1DXdHPp93Fnfds            False  \n",
       "37i9dQZF1DWVRje2pMSCzM            False  \n",
       "37i9dQZF1DXbBKF9yWSvWR            False  \n",
       "37i9dQZF1DX8bPpooSiXy2            False  \n",
       "...                                 ...  \n",
       "37i9dQZF1DWVnKyBKrE7lN            False  \n",
       "37i9dQZF1DWWu1NXpHyPJK            False  \n",
       "37i9dQZF1DX0suvPmTqswW            False  \n",
       "37i9dQZF1DX9C8KzGEUKV4            False  \n",
       "37i9dQZF1DX7QVY9I8NGmC            False  \n",
       "\n",
       "[5653 rows x 3 columns]"
      ]
     },
     "execution_count": 32,
     "metadata": {},
     "output_type": "execute_result"
    }
   ],
   "source": [
    "playlist_data[['name','category','category_source']]"
   ]
  },
  {
   "cell_type": "code",
   "execution_count": 35,
   "metadata": {},
   "outputs": [],
   "source": [
    "for i in ['name','category','category_source']:\n",
    "    nx.set_node_attributes(big_connected, playlist_data[i].to_dict(), i)\n",
    "# max(stats, key=stats.get)"
   ]
  },
  {
   "cell_type": "code",
   "execution_count": 43,
   "metadata": {},
   "outputs": [],
   "source": [
    "for (n,d) in big_connected.nodes(data=True):\n",
    "        del d[\"bipartite\"]"
   ]
  },
  {
   "cell_type": "code",
   "execution_count": 28,
   "metadata": {},
   "outputs": [],
   "source": [
    "nx.set_node_attributes(big_connected, playlist_data['name'].to_dict(), 'name')"
   ]
  },
  {
   "cell_type": "code",
   "execution_count": 39,
   "metadata": {},
   "outputs": [],
   "source": [
    "# nx.get_node_attributes(big_connected, '37i9dQZF1DXaKIA8E7WcJj')"
   ]
  },
  {
   "cell_type": "code",
   "execution_count": 44,
   "metadata": {},
   "outputs": [
    {
     "data": {
      "text/plain": [
       "{'name': 'All Out 60s', 'category': 'soul', 'category_source': False}"
      ]
     },
     "execution_count": 44,
     "metadata": {},
     "output_type": "execute_result"
    }
   ],
   "source": [
    "big_connected.nodes['37i9dQZF1DXaKIA8E7WcJj']"
   ]
  },
  {
   "cell_type": "code",
   "execution_count": 47,
   "metadata": {},
   "outputs": [],
   "source": [
    "# nx.node_link_data(big_connected)"
   ]
  },
  {
   "cell_type": "code",
   "execution_count": 67,
   "metadata": {},
   "outputs": [],
   "source": [
    "nodes = list(big_connected.nodes(data=True))"
   ]
  },
  {
   "cell_type": "code",
   "execution_count": 64,
   "metadata": {},
   "outputs": [],
   "source": [
    "nodes_map = {i: for i,v in enumerate(nodes)}"
   ]
  },
  {
   "cell_type": "code",
   "execution_count": 65,
   "metadata": {},
   "outputs": [],
   "source": [
    "edges_light = [(nodes_map[u], nodes_map[v]) for u,v in big_connected.edges()]"
   ]
  },
  {
   "cell_type": "code",
   "execution_count": 68,
   "metadata": {},
   "outputs": [],
   "source": [
    "# json_obj = nx.node_link_data(big_connected)\n",
    "with open('big_graph_nodes.json', 'w') as f:\n",
    "    json.dump(nodes, f)"
   ]
  },
  {
   "cell_type": "code",
   "execution_count": 59,
   "metadata": {
    "scrolled": true
   },
   "outputs": [],
   "source": [
    "# big_connected.edges()\n",
    "adj = nx.adjacency_matrix(big_connected)"
   ]
  },
  {
   "cell_type": "code",
   "execution_count": 61,
   "metadata": {},
   "outputs": [
    {
     "data": {
      "text/plain": [
       "array([[0, 0, 0, ..., 0, 0, 0],\n",
       "       [0, 0, 0, ..., 0, 0, 0],\n",
       "       [0, 0, 0, ..., 0, 0, 0],\n",
       "       ...,\n",
       "       [0, 0, 0, ..., 0, 0, 0],\n",
       "       [0, 0, 0, ..., 0, 0, 0],\n",
       "       [0, 0, 0, ..., 0, 0, 0]], dtype=int32)"
      ]
     },
     "execution_count": 61,
     "metadata": {},
     "output_type": "execute_result"
    }
   ],
   "source": [
    "adj.toarray()"
   ]
  },
  {
   "cell_type": "code",
   "execution_count": 56,
   "metadata": {},
   "outputs": [
    {
     "data": {
      "text/plain": [
       "<5653x5653 sparse matrix of type '<class 'numpy.intc'>'\n",
       "\twith 744920 stored elements in Compressed Sparse Row format>"
      ]
     },
     "execution_count": 56,
     "metadata": {},
     "output_type": "execute_result"
    }
   ],
   "source": []
  },
  {
   "cell_type": "code",
   "execution_count": 159,
   "metadata": {},
   "outputs": [
    {
     "name": "stderr",
     "output_type": "stream",
     "text": [
      "C:\\Users\\berna\\Anaconda3\\lib\\site-packages\\ipykernel_launcher.py:1: FutureWarning: The pandas.np module is deprecated and will be removed from pandas in a future version. Import numpy directly instead\n",
      "  \"\"\"Entry point for launching an IPython kernel.\n"
     ]
    }
   ],
   "source": []
  },
  {
   "cell_type": "code",
   "execution_count": 161,
   "metadata": {},
   "outputs": [
    {
     "data": {
      "text/plain": [
       "37i9dQZF1DX6G79ZQrQjvV    13.0\n",
       "37i9dQZF1DWUNIrSzKgQbP    46.0\n",
       "37i9dQZF1DXcr2UzLGERUU    25.0\n",
       "37i9dQZF1DX1gjl24GAQC0     6.0\n",
       "37i9dQZF1DX7ZqKP81pHlu    19.0\n",
       "                          ... \n",
       "37i9dQZF1DWVEcPtggpQMu    29.0\n",
       "37i9dQZF1DWUqr1os0aCxH    42.0\n",
       "37i9dQZF1DX5oYC8mRiXUR     5.0\n",
       "37i9dQZF1DX5J7FIl4q56G    12.0\n",
       "37i9dQZF1DX6BChUV4Ga35    25.0\n",
       "Name: category_sort, Length: 437, dtype: float64"
      ]
     },
     "execution_count": 161,
     "metadata": {},
     "output_type": "execute_result"
    }
   ],
   "source": [
    "playlist_data['category_sort'][-isnull]"
   ]
  },
  {
   "cell_type": "code",
   "execution_count": 146,
   "metadata": {},
   "outputs": [
    {
     "data": {
      "text/plain": [
       "37i9dQZF1DXaKIA8E7WcJj    NaN\n",
       "37i9dQZF1DXdHPp93Fnfds    NaN\n",
       "37i9dQZF1DWVRje2pMSCzM    NaN\n",
       "37i9dQZF1DXbBKF9yWSvWR    NaN\n",
       "37i9dQZF1DX8bPpooSiXy2    NaN\n",
       "                         ... \n",
       "37i9dQZF1DWVnKyBKrE7lN    NaN\n",
       "37i9dQZF1DWWu1NXpHyPJK    NaN\n",
       "37i9dQZF1DX0suvPmTqswW    NaN\n",
       "37i9dQZF1DX9C8KzGEUKV4    NaN\n",
       "37i9dQZF1DX7QVY9I8NGmC    NaN\n",
       "Name: category, Length: 5653, dtype: object"
      ]
     },
     "execution_count": 146,
     "metadata": {},
     "output_type": "execute_result"
    }
   ],
   "source": [
    "playlist_data['category'].sort_values()"
   ]
  },
  {
   "cell_type": "code",
   "execution_count": 147,
   "metadata": {},
   "outputs": [
    {
     "data": {
      "text/plain": [
       "array([ 1,  1,  2,  3,  3,  4,  4,  4,  5,  5,  5,  6,  6,  6,  7,  8,  8,\n",
       "        9,  9, 10, 10, 10, 10, 12, 12, 13, 13, 19, 25, 26, 27, 29, 37, 42,\n",
       "       46], dtype=int64)"
      ]
     },
     "execution_count": 147,
     "metadata": {},
     "output_type": "execute_result"
    }
   ],
   "source": []
  },
  {
   "cell_type": "code",
   "execution_count": 140,
   "metadata": {},
   "outputs": [
    {
     "data": {
      "text/plain": [
       "{'pride': 13,\n",
       " 'family': 15,\n",
       " 'roots': 17,\n",
       " 'travel': 6,\n",
       " 'toplists': 18,\n",
       " 'mood': 9,\n",
       " 'at_home': 30,\n",
       " 'romance': 27,\n",
       " 'dinner': 10,\n",
       " 'pop': 13,\n",
       " 'party': 6,\n",
       " 'gaming': 5,\n",
       " 'chill': 9,\n",
       " 'workout': 5}"
      ]
     },
     "execution_count": 140,
     "metadata": {},
     "output_type": "execute_result"
    }
   ],
   "source": [
    "dict_infected['37i9dQZF1DX47UHGK8zGt8']"
   ]
  },
  {
   "cell_type": "code",
   "execution_count": 138,
   "metadata": {},
   "outputs": [
    {
     "ename": "SyntaxError",
     "evalue": "invalid syntax (<ipython-input-138-f7cccbb62874>, line 1)",
     "output_type": "error",
     "traceback": [
      "\u001b[1;36m  File \u001b[1;32m\"<ipython-input-138-f7cccbb62874>\"\u001b[1;36m, line \u001b[1;32m1\u001b[0m\n\u001b[1;33m    {k:v for dict_infected}\u001b[0m\n\u001b[1;37m                          ^\u001b[0m\n\u001b[1;31mSyntaxError\u001b[0m\u001b[1;31m:\u001b[0m invalid syntax\n"
     ]
    }
   ],
   "source": [
    "{k:v for dict_infected}"
   ]
  },
  {
   "cell_type": "code",
   "execution_count": 129,
   "metadata": {},
   "outputs": [],
   "source": [
    "isnull = playlist_data['category'].isnull()"
   ]
  },
  {
   "cell_type": "code",
   "execution_count": 59,
   "metadata": {},
   "outputs": [
    {
     "data": {
      "text/plain": [
       "False"
      ]
     },
     "execution_count": 59,
     "metadata": {},
     "output_type": "execute_result"
    }
   ],
   "source": [
    "{}"
   ]
  },
  {
   "cell_type": "code",
   "execution_count": 65,
   "metadata": {
    "scrolled": true
   },
   "outputs": [
    {
     "data": {
      "text/plain": [
       "['37i9dQZF1DXcr2UzLGERUU',\n",
       " '37i9dQZF1DX5nluNjMjoM0',\n",
       " '37i9dQZF1DXadOVCgGhS7j',\n",
       " '37i9dQZF1DXauMQRH2JBCJ',\n",
       " '37i9dQZF1DWTMR78LDoAZC',\n",
       " '37i9dQZEVXbLnolsZ8PSNw',\n",
       " '37i9dQZF1DXbHwYW9IUCXA',\n",
       " '37i9dQZF1DWU8quswnFt3c',\n",
       " '37i9dQZF1DX0dClrg1J8Br',\n",
       " '37i9dQZF1DWYtpM7d4h5Xa',\n",
       " '37i9dQZF1DX5gQonLbZD9s',\n",
       " '37i9dQZF1DX7rOY2tZUw1k',\n",
       " '37i9dQZF1DWUa8ZRTfalHk',\n",
       " '37i9dQZF1DX0q1RHoDiZBg',\n",
       " '37i9dQZF1DX4kJGZhtnOIh',\n",
       " '37i9dQZF1DWYs2pvwxWA7l',\n",
       " '37i9dQZF1DWTLrNDPW5co2',\n",
       " '37i9dQZF1DWZNJXX2UeBij',\n",
       " '37i9dQZF1DWUxdwkOJZYCJ',\n",
       " '37i9dQZF1DWUoqEG4WY6ce',\n",
       " '37i9dQZF1DWVmps5U8gHNv',\n",
       " '37i9dQZF1DWXnscMH24yOc',\n",
       " '37i9dQZF1DX8a1tdzq5tbM',\n",
       " '37i9dQZF1DWV3VLITCZusq',\n",
       " '37i9dQZF1DWXmlLSKkfdAk',\n",
       " '37i9dQZF1DXbmCTvLQy5AO',\n",
       " '37i9dQZF1DXdsiL9gD4vAA',\n",
       " '37i9dQZF1DWTLSN7iG21yC',\n",
       " '37i9dQZF1DX4pAtJteyweQ',\n",
       " '37i9dQZF1DX8C9xQcOrE6T',\n",
       " '37i9dQZF1DX0IyMQV27EGn',\n",
       " '37i9dQZF1DWZIQpJDqCc10',\n",
       " '37i9dQZF1DXd4bJEFQJTXh',\n",
       " '37i9dQZF1DX889U0CL85jj',\n",
       " '37i9dQZF1DX76Wlfdnj7AP',\n",
       " '37i9dQZF1DX873GaRGUmPl',\n",
       " '37i9dQZF1DX4W3aJJYCDfV',\n",
       " '37i9dQZF1DWVs8I62NcHks',\n",
       " '37i9dQZF1DWSlwBojgQEcN',\n",
       " '37i9dQZF1DX8E1Op3UZWf0',\n",
       " '37i9dQZF1DX4dyzvuaRJ0n',\n",
       " '37i9dQZF1DX3Z99viCDp7Q',\n",
       " '37i9dQZF1DXan38dNVDdl4',\n",
       " '37i9dQZF1DWVl5gPCRkquk',\n",
       " '37i9dQZF1DX38snDqzaVVW',\n",
       " '37i9dQZF1DXe5Q8muTQked',\n",
       " '37i9dQZF1DX8scDqTzxoFw',\n",
       " '37i9dQZF1DWYRTlrhMB12D',\n",
       " '37i9dQZF1DX2taNm7KfjOX',\n",
       " '37i9dQZF1DWSjibQnF0bUk',\n",
       " '37i9dQZF1DWVFJtzvDHN4L',\n",
       " '37i9dQZF1DXaq7lvg1a3j6',\n",
       " '37i9dQZF1DWYmmr74INQlb',\n",
       " '37i9dQZEVXbMDoHDwVN2tF',\n",
       " '37i9dQZF1DWSrj7tqQ9IOu',\n",
       " '37i9dQZF1DX3rxVfibe1L0',\n",
       " '37i9dQZF1DWVA1Gq4XHa6U',\n",
       " '37i9dQZF1DX4xuWVBs4FgJ',\n",
       " '37i9dQZF1DX6GJXiuZRisr',\n",
       " '37i9dQZF1DXcbGhAooTSJy',\n",
       " '37i9dQZF1DX4y8h9WqDPAE',\n",
       " '37i9dQZF1DWT6SJaitNDax',\n",
       " '37i9dQZF1DXdcRZAcc2QFU',\n",
       " '37i9dQZF1DXbcCmWfoUaw2',\n",
       " '37i9dQZF1DWSqmBTGDYngZ',\n",
       " '37i9dQZF1DX4cCqTKPWY5o',\n",
       " '37i9dQZF1DX9pryhDLql25',\n",
       " '37i9dQZF1DX6ziVCJnEm59',\n",
       " '37i9dQZF1DX3PIAZMcbo2T',\n",
       " '37i9dQZF1DX5uokaTN4FTR',\n",
       " '37i9dQZF1DX5bjCEbRU4SJ',\n",
       " '37i9dQZF1DX9crXQ0wuuXE',\n",
       " '37i9dQZF1DWSxaFwRXIXnt',\n",
       " '37i9dQZF1DWY4lFlS4Pnso',\n",
       " '37i9dQZF1DWTyiBJ6yEqeu',\n",
       " '37i9dQZF1DXcBWIGoYBM5M',\n",
       " '37i9dQZF1DX6W1iI3ggF1N',\n",
       " '37i9dQZF1DWTarG7u0F62S',\n",
       " '37i9dQZF1DX0Uv9tZ47pWo',\n",
       " '37i9dQZF1DX6z20IXmBjWI',\n",
       " '37i9dQZF1DWVhQ5d3I6DeF',\n",
       " '37i9dQZF1DWTKXbV17YqGw',\n",
       " '37i9dQZF1DXdxcBWuJkbcy',\n",
       " '37i9dQZF1DX4WYpdgoIcn6',\n",
       " '37i9dQZF1DX4PMbm7GPN1x',\n",
       " '37i9dQZF1DX9ZinQt3Ddkj',\n",
       " '37i9dQZF1DX5oYC8mRiXUR',\n",
       " '37i9dQZF1DWWPcvnOpPG3x',\n",
       " '37i9dQZF1DWXqpDKK4ed9O']"
      ]
     },
     "execution_count": 65,
     "metadata": {},
     "output_type": "execute_result"
    }
   ],
   "source": [
    "[i for i in G.neighbors('37i9dQZF1DX6G79ZQrQjvV') if not isnull[i]]"
   ]
  },
  {
   "cell_type": "code",
   "execution_count": 55,
   "metadata": {},
   "outputs": [
    {
     "data": {
      "text/plain": [
       "True"
      ]
     },
     "execution_count": 55,
     "metadata": {},
     "output_type": "execute_result"
    }
   ],
   "source": [
    "nx.is_connected(G)"
   ]
  },
  {
   "cell_type": "code",
   "execution_count": 67,
   "metadata": {},
   "outputs": [
    {
     "data": {
      "text/plain": [
       "1"
      ]
     },
     "execution_count": 67,
     "metadata": {},
     "output_type": "execute_result"
    }
   ],
   "source": [
    "G.get_edge_data('37i9dQZF1DXcr2UzLGERUU', '37i9dQZF1DX6G79ZQrQjvV')['weight']"
   ]
  },
  {
   "cell_type": "code",
   "execution_count": 98,
   "metadata": {},
   "outputs": [],
   "source": [
    "es)"
   ]
  },
  {
   "cell_type": "code",
   "execution_count": 99,
   "metadata": {},
   "outputs": [
    {
     "data": {
      "text/plain": [
       "372939"
      ]
     },
     "execution_count": 99,
     "metadata": {},
     "output_type": "execute_result"
    }
   ],
   "source": [
    "len(selected_edges)"
   ]
  },
  {
   "cell_type": "code",
   "execution_count": 100,
   "metadata": {},
   "outputs": [],
   "source": []
  },
  {
   "cell_type": "code",
   "execution_count": 103,
   "metadata": {},
   "outputs": [
    {
     "data": {
      "text/plain": [
       "<networkx.classes.graph.Graph at 0x14325e18f08>"
      ]
     },
     "execution_count": 103,
     "metadata": {},
     "output_type": "execute_result"
    }
   ],
   "source": [
    "subg"
   ]
  },
  {
   "cell_type": "code",
   "execution_count": 101,
   "metadata": {},
   "outputs": [
    {
     "data": {
      "text/plain": [
       "[5653,\n",
       " 6,\n",
       " 12,\n",
       " 4,\n",
       " 2,\n",
       " 4,\n",
       " 2,\n",
       " 2,\n",
       " 36,\n",
       " 2,\n",
       " 2,\n",
       " 5,\n",
       " 2,\n",
       " 2,\n",
       " 3,\n",
       " 15,\n",
       " 3,\n",
       " 2,\n",
       " 2,\n",
       " 2,\n",
       " 3,\n",
       " 3,\n",
       " 3,\n",
       " 2,\n",
       " 2,\n",
       " 2,\n",
       " 2,\n",
       " 2,\n",
       " 2,\n",
       " 2]"
      ]
     },
     "execution_count": 101,
     "metadata": {},
     "output_type": "execute_result"
    }
   ],
   "source": [
    "[len(k) for k in]"
   ]
  },
  {
   "cell_type": "code",
   "execution_count": 102,
   "metadata": {},
   "outputs": [],
   "source": [
    "connected = list(nx.connected_components(subg))"
   ]
  },
  {
   "cell_type": "code",
   "execution_count": 97,
   "metadata": {},
   "outputs": [
    {
     "data": {
      "text/plain": [
       "{'37i9dQZF1DWT0d3wigiTss',\n",
       " '37i9dQZF1DWTpJIpOxN3r8',\n",
       " '37i9dQZF1DWUKPeBypcpcP',\n",
       " '37i9dQZF1DWV90ZWj21ygB',\n",
       " '37i9dQZF1DWVEt8B7a1H1M',\n",
       " '37i9dQZF1DWVy7RMetNOoa',\n",
       " '37i9dQZF1DWWSads6V2oIk',\n",
       " '37i9dQZF1DWXzR2GKEiHgT',\n",
       " '37i9dQZF1DWYFCj3KyU0r0',\n",
       " '37i9dQZF1DWYgToHlKhwA5',\n",
       " '37i9dQZF1DWZoPCylYnvtU',\n",
       " '37i9dQZF1DWZyr63wC7yP0',\n",
       " '37i9dQZF1DX0ES2mnOVvai',\n",
       " '37i9dQZF1DX0IWthTyxilL',\n",
       " '37i9dQZF1DX1jk5JfpZoMf',\n",
       " '37i9dQZF1DX2mFmJUZg4Mp',\n",
       " '37i9dQZF1DX3f9U3gq0DBT',\n",
       " '37i9dQZF1DX4PP3DA4J0N8',\n",
       " '37i9dQZF1DX4aYNO8X5RpR',\n",
       " '37i9dQZF1DX5ZTdvWvQHAL',\n",
       " '37i9dQZF1DX6EE01mw9tEh',\n",
       " '37i9dQZF1DX6mXxqnWLIPb',\n",
       " '37i9dQZF1DX709Kv0V067V',\n",
       " '37i9dQZF1DX7Mv4BQ3Z4nC',\n",
       " '37i9dQZF1DX8KZtFJYy6Ev',\n",
       " '37i9dQZF1DX8OfwZVxJpWy',\n",
       " '37i9dQZF1DX8ymr6UES7vc',\n",
       " '37i9dQZF1DX9NmDLwNQnXE',\n",
       " '37i9dQZF1DX9if5QDLdzCa',\n",
       " '37i9dQZF1DXaHXkx4nO9cm',\n",
       " '37i9dQZF1DXabJG3i5q2yk',\n",
       " '37i9dQZF1DXavtmWzC1MpQ',\n",
       " '37i9dQZF1DXaw68inx4UiN',\n",
       " '37i9dQZF1DXbcPC6Vvqudd',\n",
       " '37i9dQZF1DXbexOT9jE7S1',\n",
       " '37i9dQZF1DXdp5bwJ1FHFe',\n",
       " '6YMK6nqc1jS11fGraCU1o2'}"
      ]
     },
     "execution_count": 97,
     "metadata": {},
     "output_type": "execute_result"
    }
   ],
   "source": [
    "connected[4]"
   ]
  },
  {
   "cell_type": "code",
   "execution_count": null,
   "metadata": {},
   "outputs": [],
   "source": []
  }
 ],
 "metadata": {
  "kernelspec": {
   "display_name": "Python 3",
   "language": "python",
   "name": "python3"
  },
  "language_info": {
   "codemirror_mode": {
    "name": "ipython",
    "version": 3
   },
   "file_extension": ".py",
   "mimetype": "text/x-python",
   "name": "python",
   "nbconvert_exporter": "python",
   "pygments_lexer": "ipython3",
   "version": "3.7.7"
  },
  "varInspector": {
   "cols": {
    "lenName": 16,
    "lenType": 16,
    "lenVar": 40
   },
   "kernels_config": {
    "python": {
     "delete_cmd_postfix": "",
     "delete_cmd_prefix": "del ",
     "library": "var_list.py",
     "varRefreshCmd": "print(var_dic_list())"
    },
    "r": {
     "delete_cmd_postfix": ") ",
     "delete_cmd_prefix": "rm(",
     "library": "var_list.r",
     "varRefreshCmd": "cat(var_dic_list()) "
    }
   },
   "types_to_exclude": [
    "module",
    "function",
    "builtin_function_or_method",
    "instance",
    "_Feature"
   ],
   "window_display": false
  }
 },
 "nbformat": 4,
 "nbformat_minor": 4
}
